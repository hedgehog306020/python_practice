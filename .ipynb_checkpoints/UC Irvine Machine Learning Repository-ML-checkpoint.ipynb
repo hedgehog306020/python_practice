{
 "cells": [
  {
   "cell_type": "code",
   "execution_count": 1,
   "metadata": {
    "collapsed": true
   },
   "outputs": [],
   "source": [
    "%matplotlib inline\n",
    "import numpy as np\n",
    "import matplotlib.pyplot as plt\n",
    "import urllib.request"
   ]
  },
  {
   "cell_type": "code",
   "execution_count": 2,
   "metadata": {
    "collapsed": true
   },
   "outputs": [],
   "source": [
    "url = \"http://archive.ics.uci.edu/ml/machine-learning-databases/wine/wine.data\""
   ]
  },
  {
   "cell_type": "code",
   "execution_count": 14,
   "metadata": {
    "collapsed": false
   },
   "outputs": [
    {
     "name": "stdout",
     "output_type": "stream",
     "text": [
      "(178, 14)\n"
     ]
    }
   ],
   "source": [
    "raw_data = urllib.request.urlopen(url)\n",
    "dataset = np.loadtxt(raw_data, delimiter=\",\")\n",
    "X = dataset[:,0:13]\n",
    "Y = dataset[:,13]\n",
    "print(dataset.shape)"
   ]
  },
  {
   "cell_type": "code",
   "execution_count": 21,
   "metadata": {
    "collapsed": false
   },
   "outputs": [],
   "source": [
    "from keras.models import Sequential\n",
    "from keras.layers import Dense, Activation\n",
    "from keras.optimizers import SGD\n",
    "model = Sequential()"
   ]
  },
  {
   "cell_type": "code",
   "execution_count": 22,
   "metadata": {
    "collapsed": true
   },
   "outputs": [],
   "source": [
    "model.add(Dense(input_dim=13, output_dim=20))\n",
    "model.add(Activation('relu'))"
   ]
  },
  {
   "cell_type": "code",
   "execution_count": 23,
   "metadata": {
    "collapsed": true
   },
   "outputs": [],
   "source": [
    "model.add(Dense(output_dim=10))\n",
    "model.add(Activation('relu'))"
   ]
  },
  {
   "cell_type": "code",
   "execution_count": 24,
   "metadata": {
    "collapsed": true
   },
   "outputs": [],
   "source": [
    "model.add(Dense(output_dim=1))\n",
    "model.add(Activation('softmax'))"
   ]
  },
  {
   "cell_type": "code",
   "execution_count": 25,
   "metadata": {
    "collapsed": true
   },
   "outputs": [],
   "source": [
    "model.compile(loss='mse', optimizer=SGD(lr=0.1), metrics=['accuracy'])"
   ]
  },
  {
   "cell_type": "code",
   "execution_count": 26,
   "metadata": {
    "collapsed": false
   },
   "outputs": [
    {
     "name": "stdout",
     "output_type": "stream",
     "text": [
      "Epoch 1/10\n",
      "178/178 [==============================] - 0s - loss: 654966.1250 - acc: 0.0000e+00\n",
      "Epoch 2/10\n",
      "178/178 [==============================] - 0s - loss: 654966.1875 - acc: 0.0000e+00\n",
      "Epoch 3/10\n",
      "178/178 [==============================] - 0s - loss: 654966.1875 - acc: 0.0000e+00\n",
      "Epoch 4/10\n",
      "178/178 [==============================] - 0s - loss: 654966.1250 - acc: 0.0000e+00\n",
      "Epoch 5/10\n",
      "178/178 [==============================] - 0s - loss: 654966.1250 - acc: 0.0000e+00\n",
      "Epoch 6/10\n",
      "178/178 [==============================] - 0s - loss: 654966.0625 - acc: 0.0000e+00\n",
      "Epoch 7/10\n",
      "178/178 [==============================] - 0s - loss: 654966.0625 - acc: 0.0000e+00\n",
      "Epoch 8/10\n",
      "178/178 [==============================] - 0s - loss: 654966.1875 - acc: 0.0000e+00\n",
      "Epoch 9/10\n",
      "178/178 [==============================] - 0s - loss: 654966.0625 - acc: 0.0000e+00\n",
      "Epoch 10/10\n",
      "178/178 [==============================] - 0s - loss: 654966.1875 - acc: 0.0000e+00\n"
     ]
    },
    {
     "data": {
      "text/plain": [
       "<keras.callbacks.History at 0xa408e80>"
      ]
     },
     "execution_count": 26,
     "metadata": {},
     "output_type": "execute_result"
    }
   ],
   "source": [
    "model.fit(X, Y,batch_size=800,nb_epoch=10)"
   ]
  },
  {
   "cell_type": "code",
   "execution_count": 27,
   "metadata": {
    "collapsed": false
   },
   "outputs": [
    {
     "name": "stdout",
     "output_type": "stream",
     "text": [
      "160/178 [=========================>....] - ETA: 0sTotal Loss on Testing Set :  654966.336376\n",
      "Accuracy of Testing Set :  0.0\n"
     ]
    }
   ],
   "source": [
    "score = model.evaluate(X, Y)\n",
    "print(\"Total Loss on Testing Set : \", score[0])\n",
    "print(\"Accuracy of Testing Set : \", score[1])"
   ]
  },
  {
   "cell_type": "code",
   "execution_count": null,
   "metadata": {
    "collapsed": true
   },
   "outputs": [],
   "source": []
  }
 ],
 "metadata": {
  "kernelspec": {
   "display_name": "Python 3",
   "language": "python",
   "name": "python3"
  },
  "language_info": {
   "codemirror_mode": {
    "name": "ipython",
    "version": 3
   },
   "file_extension": ".py",
   "mimetype": "text/x-python",
   "name": "python",
   "nbconvert_exporter": "python",
   "pygments_lexer": "ipython3",
   "version": "3.5.2"
  }
 },
 "nbformat": 4,
 "nbformat_minor": 0
}
