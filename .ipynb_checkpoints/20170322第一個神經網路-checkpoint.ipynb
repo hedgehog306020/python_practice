{
 "cells": [
  {
   "cell_type": "code",
   "execution_count": 1,
   "metadata": {
    "collapsed": false
   },
   "outputs": [],
   "source": [
    "%matplotlib inline\n",
    "import numpy as np\n",
    "import matplotlib.pyplot as plt"
   ]
  },
  {
   "cell_type": "code",
   "execution_count": 2,
   "metadata": {
    "collapsed": false
   },
   "outputs": [
    {
     "name": "stderr",
     "output_type": "stream",
     "text": [
      "Using TensorFlow backend.\n"
     ]
    }
   ],
   "source": [
    "from keras.datasets import mnist"
   ]
  },
  {
   "cell_type": "code",
   "execution_count": 3,
   "metadata": {
    "collapsed": false
   },
   "outputs": [],
   "source": [
    "(x0_train, y0_train), (x0_test, y0_test) = mnist.load_data()"
   ]
  },
  {
   "cell_type": "code",
   "execution_count": 4,
   "metadata": {
    "collapsed": true
   },
   "outputs": [],
   "source": [
    "x_train = x0_train.reshape(60000, 28*28)\n",
    "x_test = x0_test.reshape(10000, 28*28)"
   ]
  },
  {
   "cell_type": "code",
   "execution_count": 5,
   "metadata": {
    "collapsed": true
   },
   "outputs": [],
   "source": [
    "from keras.utils import np_utils"
   ]
  },
  {
   "cell_type": "code",
   "execution_count": 6,
   "metadata": {
    "collapsed": true
   },
   "outputs": [],
   "source": [
    "y_train = np_utils.to_categorical(y0_train,10)"
   ]
  },
  {
   "cell_type": "code",
   "execution_count": 7,
   "metadata": {
    "collapsed": true
   },
   "outputs": [],
   "source": [
    "y_test = np_utils.to_categorical(y0_test,10)"
   ]
  },
  {
   "cell_type": "code",
   "execution_count": 8,
   "metadata": {
    "collapsed": true
   },
   "outputs": [],
   "source": [
    "from keras.models import Sequential\n",
    "from keras.layers import Dense, Activation\n",
    "from keras.optimizers import SGD"
   ]
  },
  {
   "cell_type": "code",
   "execution_count": 9,
   "metadata": {
    "collapsed": true
   },
   "outputs": [],
   "source": [
    "model = Sequential()"
   ]
  },
  {
   "cell_type": "code",
   "execution_count": 10,
   "metadata": {
    "collapsed": false
   },
   "outputs": [],
   "source": [
    "model.add(Dense(input_dim=784, output_dim=500))\n",
    "model.add(Activation('relu'))"
   ]
  },
  {
   "cell_type": "code",
   "execution_count": 11,
   "metadata": {
    "collapsed": false
   },
   "outputs": [],
   "source": [
    "model.add(Dense(output_dim=500))\n",
    "model.add(Activation('relu'))"
   ]
  },
  {
   "cell_type": "code",
   "execution_count": 12,
   "metadata": {
    "collapsed": true
   },
   "outputs": [],
   "source": [
    "model.add(Dense(output_dim=10))\n",
    "model.add(Activation('softmax'))"
   ]
  },
  {
   "cell_type": "code",
   "execution_count": 13,
   "metadata": {
    "collapsed": true
   },
   "outputs": [],
   "source": [
    "model.compile(loss='mse', optimizer=SGD(lr=0.1), metrics=['accuracy'])"
   ]
  },
  {
   "cell_type": "code",
   "execution_count": 14,
   "metadata": {
    "collapsed": false
   },
   "outputs": [
    {
     "name": "stdout",
     "output_type": "stream",
     "text": [
      "Epoch 1/20\n",
      "60000/60000 [==============================] - 27s - loss: 0.1534 - acc: 0.2316    \n",
      "Epoch 2/20\n",
      "60000/60000 [==============================] - 12s - loss: 0.1423 - acc: 0.2878    \n",
      "Epoch 3/20\n",
      "60000/60000 [==============================] - 19s - loss: 0.1416 - acc: 0.2910    \n",
      "Epoch 4/20\n",
      "60000/60000 [==============================] - 12s - loss: 0.1285 - acc: 0.3565    \n",
      "Epoch 5/20\n",
      "60000/60000 [==============================] - 26s - loss: 0.1240 - acc: 0.3793    \n",
      "Epoch 6/20\n",
      "60000/60000 [==============================] - 27s - loss: 0.1241 - acc: 0.3789    \n",
      "Epoch 7/20\n",
      "60000/60000 [==============================] - 27s - loss: 0.1235 - acc: 0.3818    \n",
      "Epoch 8/20\n",
      "60000/60000 [==============================] - 28s - loss: 0.1215 - acc: 0.3917    \n",
      "Epoch 9/20\n",
      "60000/60000 [==============================] - 28s - loss: 0.1062 - acc: 0.4682    \n",
      "Epoch 10/20\n",
      "60000/60000 [==============================] - 28s - loss: 0.1069 - acc: 0.4650    \n",
      "Epoch 11/20\n",
      "60000/60000 [==============================] - 28s - loss: 0.1040 - acc: 0.4794    \n",
      "Epoch 12/20\n",
      "60000/60000 [==============================] - 27s - loss: 0.1037 - acc: 0.4811    \n",
      "Epoch 13/20\n",
      "60000/60000 [==============================] - 23s - loss: 0.1040 - acc: 0.4796    \n",
      "Epoch 14/20\n",
      "60000/60000 [==============================] - 12s - loss: 0.1037 - acc: 0.4810    \n",
      "Epoch 15/20\n",
      "60000/60000 [==============================] - 27s - loss: 0.1029 - acc: 0.4849    \n",
      "Epoch 16/20\n",
      "60000/60000 [==============================] - 28s - loss: 0.1029 - acc: 0.4849    \n",
      "Epoch 17/20\n",
      "60000/60000 [==============================] - 27s - loss: 0.1029 - acc: 0.4849    \n",
      "Epoch 18/20\n",
      "60000/60000 [==============================] - 27s - loss: 0.1052 - acc: 0.4737    \n",
      "Epoch 19/20\n",
      "60000/60000 [==============================] - 26s - loss: 0.1026 - acc: 0.4865    \n",
      "Epoch 20/20\n",
      "60000/60000 [==============================] - 26s - loss: 0.1026 - acc: 0.4865    \n"
     ]
    },
    {
     "data": {
      "text/plain": [
       "<keras.callbacks.History at 0x158b59b0>"
      ]
     },
     "execution_count": 14,
     "metadata": {},
     "output_type": "execute_result"
    }
   ],
   "source": [
    "model.fit(x_train, y_train,batch_size=100,nb_epoch=20)"
   ]
  },
  {
   "cell_type": "code",
   "execution_count": 15,
   "metadata": {
    "collapsed": true
   },
   "outputs": [],
   "source": [
    "from ipywidgets import interact_manual"
   ]
  },
  {
   "cell_type": "code",
   "execution_count": 16,
   "metadata": {
    "collapsed": false
   },
   "outputs": [
    {
     "name": "stdout",
     "output_type": "stream",
     "text": [
      " 9952/10000 [============================>.] - ETA: 0s"
     ]
    }
   ],
   "source": [
    "result = model.predict_classes(x_test)"
   ]
  },
  {
   "cell_type": "code",
   "execution_count": 17,
   "metadata": {
    "collapsed": true
   },
   "outputs": [],
   "source": [
    "def 辨識(測試編號):\n",
    "    plt.imshow(x0_test[測試編號], cmap=\"Greys\")\n",
    "    print(\"神經網路判斷為:\", result[測試編號])"
   ]
  },
  {
   "cell_type": "code",
   "execution_count": 18,
   "metadata": {
    "collapsed": false
   },
   "outputs": [
    {
     "name": "stdout",
     "output_type": "stream",
     "text": [
      "神經網路判斷為: 1\n"
     ]
    },
    {
     "data": {
      "image/png": "[encoded data removed]",
      "text/plain": [
       "<matplotlib.figure.Figure at 0x16a63518>"
      ]
     },
     "metadata": {},
     "output_type": "display_data"
    }
   ],
   "source": [
    "interact_manual(辨識, 測試編號 = (0, 9999));"
   ]
  },
  {
   "cell_type": "code",
   "execution_count": 37,
   "metadata": {
    "collapsed": true
   },
   "outputs": [],
   "source": [
    "model_json = model.to_json()\n",
    "open('handwriting_model_architecture.json', 'w').write(model_json)\n",
    "model.save_weights('handwriting_model_weights.h5')"
   ]
  },
  {
   "cell_type": "code",
   "execution_count": null,
   "metadata": {
    "collapsed": true
   },
   "outputs": [],
   "source": []
  }
 ],
 "metadata": {
  "kernelspec": {
   "display_name": "Python 3",
   "language": "python",
   "name": "python3"
  },
  "language_info": {
   "codemirror_mode": {
    "name": "ipython",
    "version": 3
   },
   "file_extension": ".py",
   "mimetype": "text/x-python",
   "name": "python",
   "nbconvert_exporter": "python",
   "pygments_lexer": "ipython3",
   "version": "3.5.2"
  }
 },
 "nbformat": 4,
 "nbformat_minor": 0
}
